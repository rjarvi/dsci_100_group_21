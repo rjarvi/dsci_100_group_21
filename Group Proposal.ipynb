{
 "cells": [
  {
   "cell_type": "markdown",
   "id": "d973fe3a-1633-4118-a6d3-eb2b528d5e1f",
   "metadata": {},
   "source": [
    "Title"
   ]
  },
  {
   "cell_type": "markdown",
   "id": "53f5ea89-1cd0-4f8f-ba3e-b0da2a8f5675",
   "metadata": {},
   "source": [
    "Introduction\n",
    "\n",
    "    Provide some relevant background information on the topic so that someone unfamiliar with it will be prepared to understand the rest of your proposal\n",
    "    \n",
    "    Clearly state the question you will try to answer with your project\n",
    "    \n",
    "    Identify and describe the dataset that will be used to answer the question"
   ]
  },
  {
   "cell_type": "markdown",
   "id": "2bd8a162-6e78-4ab5-b64f-5960a13576d4",
   "metadata": {},
   "source": [
    "Preliminary exploratory data analysis:\n",
    "\n",
    "Demonstrate that the dataset can be read from the web into R \n",
    "\n",
    "Clean and wrangle your data into a tidy format\n",
    "\n",
    "Using only training data, summarize the data in at least one table (this is exploratory data analysis). \n",
    "    An example of a useful table could be one that reports the number of observations in each class, the means of the predictor variables you plan to use in your analysis and how many rows have missing data. \n",
    "    \n",
    "Using only training data, visualize the data with at least one plot relevant to the analysis you plan to do (this is exploratory data analysis). \n",
    "    An example of a useful visualization could be one that compares the distributions of each of the predictor variables you plan to use in your analysis."
   ]
  },
  {
   "cell_type": "markdown",
   "id": "174884f5-0254-41f2-ab9c-d46958abbc31",
   "metadata": {},
   "source": [
    "Methods:\n",
    "Explain how you will conduct either your data analysis and which variables/columns you will use. Note - you do not need to use all variables/columns that exist in the raw data set. In fact, that's often not a good idea. For each variable think: is this a useful variable for prediction?\n",
    "Describe at least one way that you will visualize the results"
   ]
  },
  {
   "cell_type": "markdown",
   "id": "eebdc81b-a648-4ae2-89c4-5544b707fe38",
   "metadata": {},
   "source": [
    "Expected outcomes and significance:\n",
    "What do you expect to find?\n",
    "What impact could such findings have?\n",
    "What future questions could this lead to?\n"
   ]
  }
 ],
 "metadata": {
  "kernelspec": {
   "display_name": "R",
   "language": "R",
   "name": "ir"
  },
  "language_info": {
   "codemirror_mode": "r",
   "file_extension": ".r",
   "mimetype": "text/x-r-source",
   "name": "R",
   "pygments_lexer": "r",
   "version": "4.3.1"
  }
 },
 "nbformat": 4,
 "nbformat_minor": 5
}
